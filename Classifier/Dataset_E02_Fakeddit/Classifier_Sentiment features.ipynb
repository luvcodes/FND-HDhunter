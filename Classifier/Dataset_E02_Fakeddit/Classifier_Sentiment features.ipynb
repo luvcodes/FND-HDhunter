{
 "cells": [
  {
   "cell_type": "markdown",
   "metadata": {},
   "source": [
    "# Load the Sentiment analysis data"
   ]
  },
  {
   "cell_type": "code",
   "execution_count": 1,
   "metadata": {
    "tags": []
   },
   "outputs": [
    {
     "name": "stdout",
     "output_type": "stream",
     "text": [
      "总行数: 10000\n",
      "总列数: 6\n",
      "  image_id  neg    neu    pos  compound  label\n",
      "0    t29f4  0.0  0.526  0.474    0.4019      0\n",
      "1   3zlag1  0.0  1.000  0.000    0.0000      0\n",
      "2   1oqtde  0.0  1.000  0.000    0.0000      0\n",
      "3    k3n1m  0.0  0.476  0.524    0.2960      0\n",
      "4   3k05xw  0.0  1.000  0.000    0.0000      0\n",
      "image_id    0\n",
      "neg         0\n",
      "neu         0\n",
      "pos         0\n",
      "compound    0\n",
      "label       0\n",
      "dtype: int64\n"
     ]
    }
   ],
   "source": [
    "import pandas as pd\n",
    "\n",
    "# 加载特征数据\n",
    "features_path = 'emotional_merged_df.csv'\n",
    "features_df = pd.read_csv(features_path)\n",
    "\n",
    "# 确保所有特征列都是数值类型\n",
    "feature_cols = [col for col in features_df.columns if col not in ['image_id', 'label']]\n",
    "for col in feature_cols:\n",
    "    features_df[col] = pd.to_numeric(features_df[col], errors='coerce')\n",
    "\n",
    "# 按照label进行分组\n",
    "label_0 = features_df[features_df['label'] == 0]\n",
    "label_1 = features_df[features_df['label'] == 1]\n",
    "\n",
    "# 选择5000个label为0的数据和5000个label为1的数据\n",
    "label_0_sample = label_0.sample(n=5000, random_state=42)\n",
    "label_1_sample = label_1.sample(n=5000, random_state=42)\n",
    "\n",
    "# 合并两个样本\n",
    "balanced_df = pd.concat([label_0_sample, label_1_sample], ignore_index=True)\n",
    "\n",
    "# 打印总行数和总列数\n",
    "print(f\"总行数: {balanced_df.shape[0]}\")\n",
    "print(f\"总列数: {balanced_df.shape[1]}\")\n",
    "\n",
    "# 打印前五行数据\n",
    "print(balanced_df.head())\n",
    "\n",
    "# 检查是否存在任何缺失值\n",
    "print(balanced_df.isnull().sum())\n",
    "\n",
    "# 如果存在缺失值,可以选择填充或删除缺失值\n",
    "# 这里选择填充缺失值为0\n",
    "balanced_df = balanced_df.fillna(0)"
   ]
  },
  {
   "cell_type": "markdown",
   "metadata": {},
   "source": [
    "# Split training & test set"
   ]
  },
  {
   "cell_type": "code",
   "execution_count": 2,
   "metadata": {
    "tags": []
   },
   "outputs": [
    {
     "name": "stdout",
     "output_type": "stream",
     "text": [
      "Training set shape: (8000, 4)\n",
      "Test set shape: (2000, 4)\n",
      "Training labels shape: (8000,)\n",
      "Test labels shape: (2000,)\n",
      "Training image_ids shape: (8000,)\n",
      "Test image_ids shape: (2000,)\n"
     ]
    }
   ],
   "source": [
    "from sklearn.model_selection import train_test_split\n",
    "from sklearn.preprocessing import StandardScaler\n",
    "import pandas as pd\n",
    "\n",
    "# 从 DataFrame 中分离出特征数据和标签\n",
    "X = balanced_df.drop(['label', 'image_id'], axis=1)  # 移除 'label' 和 'image_id' 列\n",
    "y = balanced_df['label']  # 标签\n",
    "\n",
    "# 将数据集划分为训练集和测试集\n",
    "X_train, X_test, y_train, y_test = train_test_split(X, y, test_size=0.2, random_state=42)\n",
    "\n",
    "# 存储 image_id 以便之后合并\n",
    "image_id_train = balanced_df.loc[X_train.index, 'image_id']\n",
    "image_id_test = balanced_df.loc[X_test.index, 'image_id']\n",
    "\n",
    "# 再次确保所有数据都是数值类型\n",
    "X_train = X_train.apply(pd.to_numeric)\n",
    "X_test = X_test.apply(pd.to_numeric)\n",
    "\n",
    "# 标准化特征数据\n",
    "scaler = StandardScaler()\n",
    "X_train = scaler.fit_transform(X_train)\n",
    "X_test = scaler.transform(X_test)\n",
    "\n",
    "# 打印检查\n",
    "print(\"Training set shape:\", X_train.shape)\n",
    "print(\"Test set shape:\", X_test.shape)\n",
    "print(\"Training labels shape:\", y_train.shape)\n",
    "print(\"Test labels shape:\", y_test.shape)\n",
    "print(\"Training image_ids shape:\", image_id_train.shape)\n",
    "print(\"Test image_ids shape:\", image_id_test.shape)"
   ]
  },
  {
   "cell_type": "markdown",
   "metadata": {},
   "source": [
    "# Logical Regression"
   ]
  },
  {
   "cell_type": "code",
   "execution_count": 3,
   "metadata": {
    "tags": []
   },
   "outputs": [
    {
     "name": "stdout",
     "output_type": "stream",
     "text": [
      "Fitting 5 folds for each of 10 candidates, totalling 50 fits\n",
      "Best parameters: {'C': 0.01, 'solver': 'liblinear'}\n",
      "Best cross-validation score: 0.58\n",
      "Accuracy on test set:  0.5685\n",
      "\n",
      "Classification Report:\n",
      "               precision    recall  f1-score   support\n",
      "\n",
      "           0       0.59      0.46      0.52      1012\n",
      "           1       0.55      0.68      0.61       988\n",
      "\n",
      "    accuracy                           0.57      2000\n",
      "   macro avg       0.57      0.57      0.56      2000\n",
      "weighted avg       0.57      0.57      0.56      2000\n",
      "\n"
     ]
    }
   ],
   "source": [
    "import pandas as pd\n",
    "from sklearn.model_selection import train_test_split, GridSearchCV\n",
    "from sklearn.linear_model import LogisticRegression\n",
    "from sklearn.metrics import classification_report, accuracy_score\n",
    "\n",
    "\n",
    "\n",
    "# 设置参数网格\n",
    "param_grid = {\n",
    "    'C': [0.01, 0.1, 1, 10, 100],\n",
    "    'solver': ['liblinear', 'saga']\n",
    "}\n",
    "\n",
    "# 创建网格搜索对象\n",
    "grid = GridSearchCV(LogisticRegression(max_iter=10000), param_grid, cv=5, scoring='accuracy', verbose=1)\n",
    "grid.fit(X_train, y_train)\n",
    "\n",
    "# 打印最佳参数和模型评估\n",
    "print(\"Best parameters:\", grid.best_params_)\n",
    "print(\"Best cross-validation score: {:.2f}\".format(grid.best_score_))\n",
    "\n",
    "predictions = grid.predict(X_test)\n",
    "print(\"Accuracy on test set: \", accuracy_score(y_test, predictions))\n",
    "print(\"\\nClassification Report:\\n\", classification_report(y_test, predictions))\n"
   ]
  },
  {
   "cell_type": "markdown",
   "metadata": {},
   "source": [
    "# SVM"
   ]
  },
  {
   "cell_type": "code",
   "execution_count": 4,
   "metadata": {
    "tags": []
   },
   "outputs": [
    {
     "name": "stdout",
     "output_type": "stream",
     "text": [
      "Fitting 5 folds for each of 12 candidates, totalling 60 fits\n",
      "Best parameters: {'C': 10, 'gamma': 'auto', 'kernel': 'rbf'}\n",
      "Best cross-validation score: 0.59\n",
      "Accuracy on test set:  0.581\n",
      "\n",
      "Classification Report:\n",
      "               precision    recall  f1-score   support\n",
      "\n",
      "           0       0.61      0.46      0.53      1012\n",
      "           1       0.56      0.70      0.62       988\n",
      "\n",
      "    accuracy                           0.58      2000\n",
      "   macro avg       0.59      0.58      0.58      2000\n",
      "weighted avg       0.59      0.58      0.58      2000\n",
      "\n"
     ]
    }
   ],
   "source": [
    "from sklearn.svm import SVC\n",
    "\n",
    "# 参数网格\n",
    "param_grid = {\n",
    "    'C': [0.1, 1, 10],\n",
    "    'kernel': ['linear', 'rbf'],\n",
    "    'gamma': ['scale', 'auto']\n",
    "}\n",
    "\n",
    "# 网格搜索\n",
    "grid = GridSearchCV(SVC(), param_grid, cv=5, scoring='accuracy', verbose=1)\n",
    "grid.fit(X_train, y_train)\n",
    "\n",
    "# 结果\n",
    "print(\"Best parameters:\", grid.best_params_)\n",
    "print(\"Best cross-validation score: {:.2f}\".format(grid.best_score_))\n",
    "\n",
    "predictions = grid.predict(X_test)\n",
    "print(\"Accuracy on test set: \", accuracy_score(y_test, predictions))\n",
    "print(\"\\nClassification Report:\\n\", classification_report(y_test, predictions))\n"
   ]
  },
  {
   "cell_type": "markdown",
   "metadata": {},
   "source": [
    "# Random Forest"
   ]
  },
  {
   "cell_type": "code",
   "execution_count": 5,
   "metadata": {
    "tags": []
   },
   "outputs": [
    {
     "name": "stdout",
     "output_type": "stream",
     "text": [
      "Fitting 5 folds for each of 27 candidates, totalling 135 fits\n",
      "Best parameters: {'max_depth': 10, 'min_samples_split': 10, 'n_estimators': 200}\n",
      "Best cross-validation score: 0.60\n",
      "Accuracy on test set:  0.593\n",
      "\n",
      "Classification Report:\n",
      "               precision    recall  f1-score   support\n",
      "\n",
      "           0       0.65      0.43      0.52      1012\n",
      "           1       0.57      0.76      0.65       988\n",
      "\n",
      "    accuracy                           0.59      2000\n",
      "   macro avg       0.61      0.59      0.58      2000\n",
      "weighted avg       0.61      0.59      0.58      2000\n",
      "\n"
     ]
    }
   ],
   "source": [
    "from sklearn.ensemble import RandomForestClassifier\n",
    "\n",
    "# 参数网格\n",
    "param_grid = {\n",
    "    'n_estimators': [100, 200, 300],\n",
    "    'max_depth': [10, 15, 20],\n",
    "    'min_samples_split': [2, 5, 10]\n",
    "}\n",
    "\n",
    "# 网格搜索\n",
    "grid = GridSearchCV(RandomForestClassifier(random_state=42), param_grid, cv=5, scoring='accuracy', verbose=1)\n",
    "grid.fit(X_train, y_train)\n",
    "\n",
    "# 结果\n",
    "print(\"Best parameters:\", grid.best_params_)\n",
    "print(\"Best cross-validation score: {:.2f}\".format(grid.best_score_))\n",
    "\n",
    "predictions = grid.predict(X_test)\n",
    "print(\"Accuracy on test set: \", accuracy_score(y_test, predictions))\n",
    "print(\"\\nClassification Report:\\n\", classification_report(y_test, predictions))\n"
   ]
  },
  {
   "cell_type": "markdown",
   "metadata": {},
   "source": [
    "# Gradient Boosting"
   ]
  },
  {
   "cell_type": "code",
   "execution_count": 6,
   "metadata": {
    "tags": []
   },
   "outputs": [
    {
     "name": "stdout",
     "output_type": "stream",
     "text": [
      "Fitting 5 folds for each of 27 candidates, totalling 135 fits\n",
      "Best parameters: {'learning_rate': 0.01, 'max_depth': 5, 'n_estimators': 200}\n",
      "Best cross-validation score: 0.60\n",
      "Accuracy on test set:  0.5985\n",
      "\n",
      "Classification Report:\n",
      "               precision    recall  f1-score   support\n",
      "\n",
      "           0       0.64      0.46      0.54      1012\n",
      "           1       0.57      0.74      0.65       988\n",
      "\n",
      "    accuracy                           0.60      2000\n",
      "   macro avg       0.61      0.60      0.59      2000\n",
      "weighted avg       0.61      0.60      0.59      2000\n",
      "\n"
     ]
    }
   ],
   "source": [
    "import pandas as pd\n",
    "from sklearn.model_selection import train_test_split, GridSearchCV\n",
    "from sklearn.ensemble import GradientBoostingClassifier\n",
    "from sklearn.metrics import classification_report, accuracy_score\n",
    "\n",
    "# 加载数据\n",
    "# 假设 X_train 和 y_train 已经准备好了\n",
    "\n",
    "# 设置参数网格\n",
    "param_grid = {\n",
    "    'n_estimators': [100, 200, 300],\n",
    "    'learning_rate': [0.01, 0.1, 0.2],\n",
    "    'max_depth': [3, 5, 7]\n",
    "}\n",
    "\n",
    "# 创建网格搜索对象\n",
    "grid = GridSearchCV(GradientBoostingClassifier(), param_grid, cv=5, scoring='accuracy', verbose=1)\n",
    "grid.fit(X_train, y_train)\n",
    "\n",
    "# 打印最佳参数和模型评估\n",
    "print(\"Best parameters:\", grid.best_params_)\n",
    "print(\"Best cross-validation score: {:.2f}\".format(grid.best_score_))\n",
    "\n",
    "predictions = grid.predict(X_test)\n",
    "print(\"Accuracy on test set: \", accuracy_score(y_test, predictions))\n",
    "print(\"\\nClassification Report:\\n\", classification_report(y_test, predictions))\n"
   ]
  },
  {
   "cell_type": "markdown",
   "metadata": {},
   "source": [
    "# XGBoost"
   ]
  },
  {
   "cell_type": "code",
   "execution_count": 7,
   "metadata": {
    "tags": []
   },
   "outputs": [
    {
     "name": "stdout",
     "output_type": "stream",
     "text": [
      "Fitting 5 folds for each of 27 candidates, totalling 135 fits\n",
      "Best parameters: {'learning_rate': 0.01, 'max_depth': 3, 'n_estimators': 300}\n",
      "Best cross-validation score: 0.60\n",
      "Accuracy on test set:  0.59\n",
      "\n",
      "Classification Report:\n",
      "               precision    recall  f1-score   support\n",
      "\n",
      "           0       0.62      0.47      0.54      1012\n",
      "           1       0.57      0.71      0.63       988\n",
      "\n",
      "    accuracy                           0.59      2000\n",
      "   macro avg       0.60      0.59      0.58      2000\n",
      "weighted avg       0.60      0.59      0.58      2000\n",
      "\n"
     ]
    }
   ],
   "source": [
    "import xgboost as xgb\n",
    "from sklearn.model_selection import GridSearchCV\n",
    "from sklearn.metrics import classification_report, accuracy_score\n",
    "\n",
    "# 加载数据\n",
    "# 假设 X_train 和 y_train 已经准备好了\n",
    "\n",
    "# 设置参数网格\n",
    "param_grid = {\n",
    "    'n_estimators': [100, 200, 300],\n",
    "    'learning_rate': [0.01, 0.1, 0.2],\n",
    "    'max_depth': [3, 5, 7]\n",
    "}\n",
    "\n",
    "# 创建网格搜索对象\n",
    "grid = GridSearchCV(xgb.XGBClassifier(use_label_encoder=False, eval_metric='logloss'), param_grid, cv=5, scoring='accuracy', verbose=1)\n",
    "grid.fit(X_train, y_train)\n",
    "\n",
    "# 打印最佳参数和模型评估\n",
    "print(\"Best parameters:\", grid.best_params_)\n",
    "print(\"Best cross-validation score: {:.2f}\".format(grid.best_score_))\n",
    "\n",
    "predictions = grid.predict(X_test)\n",
    "print(\"Accuracy on test set: \", accuracy_score(y_test, predictions))\n",
    "print(\"\\nClassification Report:\\n\", classification_report(y_test, predictions))\n"
   ]
  },
  {
   "cell_type": "markdown",
   "metadata": {},
   "source": [
    "# KNN"
   ]
  },
  {
   "cell_type": "code",
   "execution_count": 8,
   "metadata": {
    "tags": []
   },
   "outputs": [
    {
     "name": "stdout",
     "output_type": "stream",
     "text": [
      "Fitting 5 folds for each of 16 candidates, totalling 80 fits\n",
      "Best parameters: {'metric': 'manhattan', 'n_neighbors': 9, 'weights': 'uniform'}\n",
      "Best cross-validation score: 0.57\n",
      "Accuracy on test set:  0.588\n",
      "\n",
      "Classification Report:\n",
      "               precision    recall  f1-score   support\n",
      "\n",
      "           0       0.66      0.39      0.49      1012\n",
      "           1       0.56      0.79      0.65       988\n",
      "\n",
      "    accuracy                           0.59      2000\n",
      "   macro avg       0.61      0.59      0.57      2000\n",
      "weighted avg       0.61      0.59      0.57      2000\n",
      "\n"
     ]
    }
   ],
   "source": [
    "from sklearn.neighbors import KNeighborsClassifier\n",
    "from sklearn.model_selection import GridSearchCV\n",
    "from sklearn.metrics import classification_report, accuracy_score\n",
    "\n",
    "# 加载数据\n",
    "# 假设 X_train 和 y_train 已经准备好了\n",
    "\n",
    "# 设置参数网格\n",
    "param_grid = {\n",
    "    'n_neighbors': [3, 5, 7, 9],\n",
    "    'weights': ['uniform', 'distance'],\n",
    "    'metric': ['euclidean', 'manhattan']\n",
    "}\n",
    "\n",
    "# 创建网格搜索对象\n",
    "grid = GridSearchCV(KNeighborsClassifier(), param_grid, cv=5, scoring='accuracy', verbose=1)\n",
    "grid.fit(X_train, y_train)\n",
    "\n",
    "# 打印最佳参数和模型评估\n",
    "print(\"Best parameters:\", grid.best_params_)\n",
    "print(\"Best cross-validation score: {:.2f}\".format(grid.best_score_))\n",
    "\n",
    "predictions = grid.predict(X_test)\n",
    "print(\"Accuracy on test set: \", accuracy_score(y_test, predictions))\n",
    "print(\"\\nClassification Report:\\n\", classification_report(y_test, predictions))\n"
   ]
  }
 ],
 "metadata": {
  "kernelspec": {
   "display_name": "default:Python",
   "language": "python",
   "name": "conda-env-default-py"
  },
  "language_info": {
   "codemirror_mode": {
    "name": "ipython",
    "version": 3
   },
   "file_extension": ".py",
   "mimetype": "text/x-python",
   "name": "python",
   "nbconvert_exporter": "python",
   "pygments_lexer": "ipython3",
   "version": "3.9.16"
  }
 },
 "nbformat": 4,
 "nbformat_minor": 4
}
