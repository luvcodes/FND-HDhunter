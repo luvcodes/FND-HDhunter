{
 "cells": [
  {
   "cell_type": "markdown",
   "metadata": {},
   "source": [
    "# Data alignment - merge through 'image_id'"
   ]
  },
  {
   "cell_type": "code",
   "execution_count": 3,
   "metadata": {
    "tags": []
   },
   "outputs": [
    {
     "ename": "ModuleNotFoundError",
     "evalue": "No module named 'torch'",
     "output_type": "error",
     "traceback": [
      "\u001b[1;31m---------------------------------------------------------------------------\u001b[0m",
      "\u001b[1;31mModuleNotFoundError\u001b[0m                       Traceback (most recent call last)",
      "Cell \u001b[1;32mIn[3], line 15\u001b[0m\n\u001b[0;32m     13\u001b[0m \u001b[38;5;66;03m# 加载 pickle 文件\u001b[39;00m\n\u001b[0;32m     14\u001b[0m pickle_path \u001b[38;5;241m=\u001b[39m \u001b[38;5;124m'\u001b[39m\u001b[38;5;124mD:\u001b[39m\u001b[38;5;130;01m\\\\\u001b[39;00m\u001b[38;5;124mCAPSTONE5703_Classifier\u001b[39m\u001b[38;5;130;01m\\\\\u001b[39;00m\u001b[38;5;124mDATASET_C01\u001b[39m\u001b[38;5;130;01m\\\\\u001b[39;00m\u001b[38;5;124mtrain.pkl\u001b[39m\u001b[38;5;124m'\u001b[39m\n\u001b[1;32m---> 15\u001b[0m labels_dict \u001b[38;5;241m=\u001b[39m \u001b[43mload_labels_from_pickle\u001b[49m\u001b[43m(\u001b[49m\u001b[43mpickle_path\u001b[49m\u001b[43m)\u001b[49m\n\u001b[0;32m     17\u001b[0m \u001b[38;5;66;03m# 加载 CSV 文件\u001b[39;00m\n\u001b[0;32m     18\u001b[0m features_path \u001b[38;5;241m=\u001b[39m \u001b[38;5;124m'\u001b[39m\u001b[38;5;124mD:\u001b[39m\u001b[38;5;130;01m\\\\\u001b[39;00m\u001b[38;5;124mCAPSTONE5703_Classifier\u001b[39m\u001b[38;5;130;01m\\\\\u001b[39;00m\u001b[38;5;124mDATASET_C01\u001b[39m\u001b[38;5;130;01m\\\\\u001b[39;00m\u001b[38;5;124mFused.csv\u001b[39m\u001b[38;5;124m'\u001b[39m\n",
      "Cell \u001b[1;32mIn[3], line 6\u001b[0m, in \u001b[0;36mload_labels_from_pickle\u001b[1;34m(pickle_file)\u001b[0m\n\u001b[0;32m      4\u001b[0m \u001b[38;5;28;01mdef\u001b[39;00m \u001b[38;5;21mload_labels_from_pickle\u001b[39m(pickle_file):\n\u001b[0;32m      5\u001b[0m     \u001b[38;5;28;01mwith\u001b[39;00m \u001b[38;5;28mopen\u001b[39m(pickle_file, \u001b[38;5;124m'\u001b[39m\u001b[38;5;124mrb\u001b[39m\u001b[38;5;124m'\u001b[39m) \u001b[38;5;28;01mas\u001b[39;00m f:\n\u001b[1;32m----> 6\u001b[0m         data \u001b[38;5;241m=\u001b[39m \u001b[43mpickle\u001b[49m\u001b[38;5;241;43m.\u001b[39;49m\u001b[43mload\u001b[49m\u001b[43m(\u001b[49m\u001b[43mf\u001b[49m\u001b[43m)\u001b[49m\n\u001b[0;32m      7\u001b[0m         \u001b[38;5;66;03m# 直接访问 data 字典中的 'image_id' 和 'label'\u001b[39;00m\n\u001b[0;32m      8\u001b[0m         image_ids \u001b[38;5;241m=\u001b[39m data[\u001b[38;5;124m'\u001b[39m\u001b[38;5;124mimage_id\u001b[39m\u001b[38;5;124m'\u001b[39m]\n",
      "\u001b[1;31mModuleNotFoundError\u001b[0m: No module named 'torch'"
     ]
    }
   ],
   "source": [
    "import pandas as pd\n",
    "import pickle\n",
    "\n",
    "def load_labels_from_pickle(pickle_file):\n",
    "    with open(pickle_file, 'rb') as f:\n",
    "        data = pickle.load(f)\n",
    "        # 直接访问 data 字典中的 'image_id' 和 'label'\n",
    "        image_ids = data['image_id']\n",
    "        labels = data['label']\n",
    "        labels_dict = dict(zip(image_ids, labels))\n",
    "    return labels_dict\n",
    "\n",
    "# 加载 pickle 文件\n",
    "pickle_path = 'D:\\\\CAPSTONE5703_Classifier\\\\DATASET_C01\\\\train.pkl'\n",
    "labels_dict = load_labels_from_pickle(pickle_path)\n",
    "\n",
    "# 加载 CSV 文件\n",
    "features_path = 'D:\\\\CAPSTONE5703_Classifier\\\\DATASET_C01\\\\Fused.csv'\n",
    "features_df = pd.read_csv(features_path)\n",
    "\n",
    "# 确保 CSV 文件中最后一列为 image_id\n",
    "if features_df.columns[-1] != 'image_id':\n",
    "    print(\"Error: 'image_id' must be the last column in the CSV file.\")\n",
    "else:\n",
    "    # 创建 DataFrame 用于包含从字典中提取的 image_id 和 label\n",
    "    labels_df = pd.DataFrame(list(labels_dict.items()), columns=['image_id', 'label'])\n",
    "\n",
    "    # 将 features_df 和 labels_df 中的 'image_id' 设置为索引\n",
    "    features_df.set_index('image_id', inplace=True)\n",
    "    labels_df.set_index('image_id', inplace=True)\n",
    "\n",
    "    # 根据 image_id 合并 features_df 和 labels_df\n",
    "    merged_df = pd.merge(features_df, labels_df, left_index=True, right_index=True, how='inner')\n",
    "\n",
    "    # 重置索引以便导出或其他处理\n",
    "    merged_df.reset_index(inplace=True)\n",
    "\n",
    "    # 检查合并后的数据\n",
    "    print(merged_df.head())\n",
    "\n",
    "    # 可以选择保存合并后的 DataFrame\n",
    "    # merged_df.to_csv('D:\\\\CAPSTONE5703_CNN\\\\merged_fused features.csv', index=False)\n"
   ]
  },
  {
   "cell_type": "markdown",
   "metadata": {},
   "source": [
    "# Split training & test set"
   ]
  },
  {
   "cell_type": "code",
   "execution_count": null,
   "metadata": {
    "tags": []
   },
   "outputs": [],
   "source": [
    "from sklearn.model_selection import train_test_split\n",
    "from sklearn.preprocessing import StandardScaler\n",
    "\n",
    "# 从DataFrame中分离出特征数据和标签\n",
    "X = merged_df.drop(['label', 'image_id'], axis=1)  # 移除 'label' 和 'image_id' 列\n",
    "y = merged_df['label']  # 标签\n",
    "\n",
    "# 打印出每列的数据类型\n",
    "# print(X.dtypes)\n",
    "\n",
    "# 将数据集划分为训练集和测试集\n",
    "X_train, X_test, y_train, y_test = train_test_split(X, y, test_size=0.2, random_state=42)\n",
    "# X_train and X_test represent the training set and test set of feature data respectively.\n",
    "# y_train and y_test represent the training set and test set of labeled data respectively."
   ]
  },
  {
   "cell_type": "markdown",
   "metadata": {},
   "source": [
    "# PCA "
   ]
  },
  {
   "cell_type": "code",
   "execution_count": null,
   "metadata": {
    "tags": []
   },
   "outputs": [
    {
     "name": "stdout",
     "output_type": "stream",
     "text": [
      "New training dimensions: 193\n",
      "New testing dimensions: 193\n"
     ]
    }
   ],
   "source": [
    "import numpy as np\n",
    "from sklearn.decomposition import PCA\n",
    "\n",
    "# 应用 PCA 降维，只在训练数据上fit，然后transform训练数据和测试数据\n",
    "pca = PCA(n_components=0.95)  # 保留95%的方差\n",
    "X_train_pca = pca.fit_transform(X_train) # pca后的训练集\n",
    "X_test_pca = pca.transform(X_test) # pca后的测试集\n",
    "\n",
    "# 检查新的维数和解释的方差比\n",
    "print(\"New training dimensions:\", X_train_pca.shape[1])\n",
    "print(\"New testing dimensions:\", X_test_pca.shape[1])\n",
    "# print(\"Explained variance ratio:\", pca.explained_variance_ratio_)\n"
   ]
  },
  {
   "cell_type": "markdown",
   "metadata": {},
   "source": [
    "## CNN"
   ]
  },
  {
   "cell_type": "code",
   "execution_count": null,
   "metadata": {
    "tags": []
   },
   "outputs": [
    {
     "ename": "ModuleNotFoundError",
     "evalue": "No module named 'skorch.history'",
     "output_type": "error",
     "traceback": [
      "\u001b[0;31m---------------------------------------------------------------------------\u001b[0m",
      "\u001b[0;31mModuleNotFoundError\u001b[0m                       Traceback (most recent call last)",
      "\u001b[0;32m/tmp/ipykernel_92/3372844690.py\u001b[0m in \u001b[0;36m<cell line: 4>\u001b[0;34m()\u001b[0m\n\u001b[1;32m      2\u001b[0m \u001b[0;32mimport\u001b[0m \u001b[0mtorch\u001b[0m\u001b[0;34m.\u001b[0m\u001b[0mnn\u001b[0m \u001b[0;32mas\u001b[0m \u001b[0mnn\u001b[0m\u001b[0;34m\u001b[0m\u001b[0;34m\u001b[0m\u001b[0m\n\u001b[1;32m      3\u001b[0m \u001b[0;32mimport\u001b[0m \u001b[0mtorch\u001b[0m\u001b[0;34m.\u001b[0m\u001b[0moptim\u001b[0m \u001b[0;32mas\u001b[0m \u001b[0moptim\u001b[0m\u001b[0;34m\u001b[0m\u001b[0;34m\u001b[0m\u001b[0m\n\u001b[0;32m----> 4\u001b[0;31m \u001b[0;32mfrom\u001b[0m \u001b[0mskorch\u001b[0m \u001b[0;32mimport\u001b[0m \u001b[0mNeuralNetClassifier\u001b[0m\u001b[0;34m\u001b[0m\u001b[0;34m\u001b[0m\u001b[0m\n\u001b[0m\u001b[1;32m      5\u001b[0m \u001b[0;32mfrom\u001b[0m \u001b[0msklearn\u001b[0m\u001b[0;34m.\u001b[0m\u001b[0mmetrics\u001b[0m \u001b[0;32mimport\u001b[0m \u001b[0mclassification_report\u001b[0m\u001b[0;34m,\u001b[0m \u001b[0maccuracy_score\u001b[0m\u001b[0;34m\u001b[0m\u001b[0;34m\u001b[0m\u001b[0m\n\u001b[1;32m      6\u001b[0m \u001b[0;32mfrom\u001b[0m \u001b[0msklearn\u001b[0m\u001b[0;34m.\u001b[0m\u001b[0mmodel_selection\u001b[0m \u001b[0;32mimport\u001b[0m \u001b[0mStratifiedKFold\u001b[0m\u001b[0;34m,\u001b[0m \u001b[0mRandomizedSearchCV\u001b[0m\u001b[0;34m\u001b[0m\u001b[0;34m\u001b[0m\u001b[0m\n",
      "\u001b[0;32m~/.conda/envs/default/lib/python3.9/site-packages/skorch/__init__.py\u001b[0m in \u001b[0;36m<module>\u001b[0;34m\u001b[0m\n\u001b[1;32m      6\u001b[0m \u001b[0;32mimport\u001b[0m \u001b[0mimportlib\u001b[0m\u001b[0;34m.\u001b[0m\u001b[0mmetadata\u001b[0m\u001b[0;34m\u001b[0m\u001b[0;34m\u001b[0m\u001b[0m\n\u001b[1;32m      7\u001b[0m \u001b[0;34m\u001b[0m\u001b[0m\n\u001b[0;32m----> 8\u001b[0;31m \u001b[0;32mfrom\u001b[0m \u001b[0;34m.\u001b[0m\u001b[0mhistory\u001b[0m \u001b[0;32mimport\u001b[0m \u001b[0mHistory\u001b[0m\u001b[0;34m\u001b[0m\u001b[0;34m\u001b[0m\u001b[0m\n\u001b[0m\u001b[1;32m      9\u001b[0m \u001b[0;32mfrom\u001b[0m \u001b[0;34m.\u001b[0m\u001b[0mnet\u001b[0m \u001b[0;32mimport\u001b[0m \u001b[0mNeuralNet\u001b[0m\u001b[0;34m\u001b[0m\u001b[0;34m\u001b[0m\u001b[0m\n\u001b[1;32m     10\u001b[0m \u001b[0;32mfrom\u001b[0m \u001b[0;34m.\u001b[0m\u001b[0mclassifier\u001b[0m \u001b[0;32mimport\u001b[0m \u001b[0mNeuralNetClassifier\u001b[0m\u001b[0;34m\u001b[0m\u001b[0;34m\u001b[0m\u001b[0m\n",
      "\u001b[0;31mModuleNotFoundError\u001b[0m: No module named 'skorch.history'"
     ]
    }
   ],
   "source": [
    "import torch\n",
    "import torch.nn as nn\n",
    "import torch.optim as optim\n",
    "from skorch import NeuralNetClassifier\n",
    "from sklearn.metrics import classification_report, accuracy_score\n",
    "from sklearn.model_selection import StratifiedKFold, RandomizedSearchCV\n",
    "\n",
    "# 假设你已经有X_train_pca和X_test_pca\n",
    "# 例如：X_train_pca, X_test_pca = load_your_data()\n",
    "\n",
    "# 重塑数据为1D CNN接受的形状\n",
    "X_train_pca = X_train_pca.reshape(X_train_pca.shape[0], X_train_pca.shape[1], 1)\n",
    "X_test_pca = X_test_pca.reshape(X_test_pca.shape[0], X_test_pca.shape[1], 1)\n",
    "\n",
    "# 定义3层卷积的1D CNN模型\n",
    "class CNN1D(nn.Module):\n",
    "    def __init__(self, num_features, num_filters=32, kernel_size=3, pool_size=2, dense_units=128):\n",
    "        super(CNN1D, self).__init__()\n",
    "        self.conv1 = nn.Conv1d(1, num_filters, kernel_size)\n",
    "        self.pool = nn.MaxPool1d(pool_size)\n",
    "        self.conv2 = nn.Conv1d(num_filters, num_filters*2, kernel_size)\n",
    "        self.conv3 = nn.Conv1d(num_filters*2, num_filters*4, kernel_size)\n",
    "        self.fc1 = nn.Linear(num_filters*4 * ((num_features - 3 * (kernel_size - 1)) // pool_size**3), dense_units)\n",
    "        self.fc2 = nn.Linear(dense_units, 1)\n",
    "        self.relu = nn.ReLU()\n",
    "        self.sigmoid = nn.Sigmoid()\n",
    "\n",
    "    def forward(self, x):\n",
    "        x = self.pool(self.relu(self.conv1(x)))\n",
    "        x = self.pool(self.relu(self.conv2(x)))\n",
    "        x = self.pool(self.relu(self.conv3(x)))\n",
    "        x = x.view(-1, x.shape[1] * x.shape[2])\n",
    "        x = self.relu(self.fc1(x))\n",
    "        x = self.sigmoid(self.fc2(x))\n",
    "        return x\n",
    "\n",
    "# 创建skorch的NeuralNetClassifier\n",
    "net = NeuralNetClassifier(\n",
    "    module=CNN1D,\n",
    "    module__num_features=X_train_pca.shape[1],\n",
    "    max_epochs=10,\n",
    "    lr=0.01,\n",
    "    optimizer=optim.Adam,\n",
    "    optimizer__weight_decay=0.0001,\n",
    "    criterion=nn.CrossEntropyLoss,\n",
    "    batch_size=64,\n",
    "    iterator_train__shuffle=True,\n",
    "    callbacks=[skorch.callbacks.EarlyStopping(patience=5)],\n",
    "    # device='cuda'  # 如果有GPU，可以使用'cuda'\n",
    ")\n",
    "\n",
    "# 设置参数分布（手动定义）\n",
    "param_dist = {\n",
    "    'optimizer': [optim.Adam, optim.SGD, optim.RMSprop],\n",
    "    'module__num_filters': [32, 64, 128],\n",
    "    'module__kernel_size': [3, 5, 7],\n",
    "    'module__pool_size': [2, 3],\n",
    "    'module__dense_units': [64, 128, 256],\n",
    "    'lr': [0.001, 0.005, 0.01]  # 手动定义学习率\n",
    "}\n",
    "\n",
    "# 设置K折交叉验证\n",
    "cv = StratifiedKFold(n_splits=5, shuffle=True, random_state=42)\n",
    "\n",
    "# 创建RandomizedSearchCV对象\n",
    "random_search = RandomizedSearchCV(net, param_distributions=param_dist, cv=5, scoring='accuracy', n_jobs=-1, verbose=1, n_iter=40)\n",
    "random_search.fit(X_train_pca, y_train)  # 使用降维后的训练数据\n",
    "\n",
    "# 打印最佳超参数和对应的分数\n",
    "print(\"Best parameters: \", random_search.best_params_)\n",
    "print(\"Best score: \", random_search.best_score_)\n",
    "\n",
    "# 使用最佳超参数创建新的模型\n",
    "best_model = random_search.best_estimator_\n",
    "\n",
    "# 在完整的训练集上训练最佳模型\n",
    "best_model.fit(X_train_pca, y_train)\n",
    "\n",
    "# 在测试集上评估最佳模型\n",
    "predictions = best_model.predict(X_test_pca)\n",
    "print(\"Accuracy on test set: \", accuracy_score(y_test, predictions))\n",
    "print(\"\\nClassification Report:\\n\", classification_report(y_test, predictions))\n"
   ]
  }
 ],
 "metadata": {
  "kernelspec": {
   "display_name": "Python 3",
   "language": "python",
   "name": "python3"
  },
  "language_info": {
   "codemirror_mode": {
    "name": "ipython",
    "version": 3
   },
   "file_extension": ".py",
   "mimetype": "text/x-python",
   "name": "python",
   "nbconvert_exporter": "python",
   "pygments_lexer": "ipython3",
   "version": "3.12.3"
  }
 },
 "nbformat": 4,
 "nbformat_minor": 4
}
