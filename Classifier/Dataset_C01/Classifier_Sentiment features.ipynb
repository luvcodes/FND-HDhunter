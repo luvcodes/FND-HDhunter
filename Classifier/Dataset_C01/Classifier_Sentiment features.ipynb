{
 "cells": [
  {
   "cell_type": "markdown",
   "metadata": {},
   "source": [
    "# Load the Sentiment analysis data"
   ]
  },
  {
   "cell_type": "code",
   "execution_count": 8,
   "metadata": {
    "tags": []
   },
   "outputs": [
    {
     "name": "stdout",
     "output_type": "stream",
     "text": [
      "总行数: 5413\n",
      "总列数: 5\n",
      "                           image_id    neg    neu    pos  compound\n",
      "0  62b31d36gw1expsi2gfrdj20hm0loq8o  0.105  0.895  0.000   -0.8442\n",
      "1  563a2b53jw1exl77nkup7j20c30f3q4j  0.000  0.868  0.132    0.5719\n",
      "2  005ldo0ygw1ex23rdfuqcj30xo0k6di0  0.000  0.911  0.089    0.5994\n",
      "3  62b31d36gw1exfcmyz8agj20qq0hu77k  0.147  0.827  0.026   -0.8360\n",
      "4  0060kjm0jw1exdjaeiqadj30xc0m8tdw  0.065  0.793  0.141    0.7550\n",
      "               neg          neu          pos     compound\n",
      "count  5413.000000  5413.000000  5413.000000  5413.000000\n",
      "mean      0.082708     0.836126     0.081158    -0.043016\n",
      "std       0.090372     0.112274     0.092355     0.593741\n",
      "min       0.000000     0.038000     0.000000    -0.993600\n",
      "25%       0.000000     0.772000     0.000000    -0.585900\n",
      "50%       0.062000     0.848000     0.057000     0.000000\n",
      "75%       0.131000     0.913000     0.128000     0.476700\n",
      "max       0.552000     1.000000     0.962000     0.999700\n",
      "<class 'pandas.core.frame.DataFrame'>\n",
      "RangeIndex: 5413 entries, 0 to 5412\n",
      "Data columns (total 5 columns):\n",
      " #   Column    Non-Null Count  Dtype  \n",
      "---  ------    --------------  -----  \n",
      " 0   image_id  5413 non-null   object \n",
      " 1   neg       5413 non-null   float64\n",
      " 2   neu       5413 non-null   float64\n",
      " 3   pos       5413 non-null   float64\n",
      " 4   compound  5413 non-null   float64\n",
      "dtypes: float64(4), object(1)\n",
      "memory usage: 211.6+ KB\n",
      "None\n"
     ]
    }
   ],
   "source": [
    "import pandas as pd\n",
    "\n",
    "# 加载特征数据\n",
    "features_path = 'SA.csv'\n",
    "features_df = pd.read_csv(features_path)\n",
    "\n",
    "\n",
    "# 打印总行数和总列数\n",
    "print(f\"总行数: {features_df.shape[0]}\")\n",
    "print(f\"总列数: {features_df.shape[1]}\")\n",
    "\n",
    "# 打印前五行数据\n",
    "print(features_df.head())\n",
    "\n",
    "# 显示数据的基本统计描述\n",
    "print(features_df.describe())\n",
    "\n",
    "# 显示列名和数据类型\n",
    "print(features_df.info())"
   ]
  },
  {
   "cell_type": "markdown",
   "metadata": {},
   "source": [
    "# Load the label "
   ]
  },
  {
   "cell_type": "code",
   "execution_count": 9,
   "metadata": {
    "tags": []
   },
   "outputs": [],
   "source": [
    "# import pandas as pd\n",
    "# import pickle\n",
    "\n",
    "# def load_labels_from_pickle(pickle_file):\n",
    "    # with open(pickle_file, 'rb') as f:\n",
    "        # data = pickle.load(f)\n",
    "        # labels = data['label']\n",
    "    # return labels\n",
    "\n",
    "# 初始化 PickleDataset\n",
    "# pickle_path = 'D:\\\\CAPSTONE5703_CNN\\\\datasets_pickle\\\\train.pkl'\n",
    "# labels = load_labels_from_pickle(pickle_path)\n",
    "\n",
    "# 将标签转换为 DataFrame\n",
    "# labels_df = pd.DataFrame({'label': labels})\n",
    "\n",
    "# 打印标签总行数\n",
    "# print(f\"Total number of rows of labels: {len(labels_df)}\")\n",
    "\n",
    "# 打印前 5 行标签\n",
    "# print(\"First 5 rows of labels:\")\n",
    "# print(labels_df.head())"
   ]
  },
  {
   "cell_type": "markdown",
   "metadata": {},
   "source": [
    "# Data alignment - merge through 'image_id'"
   ]
  },
  {
   "cell_type": "code",
   "execution_count": 10,
   "metadata": {
    "tags": []
   },
   "outputs": [
    {
     "name": "stdout",
     "output_type": "stream",
     "text": [
      "                           image_id    neg    neu    pos  compound  label\n",
      "0  62b31d36gw1expsi2gfrdj20hm0loq8o  0.105  0.895  0.000   -0.8442      0\n",
      "1  563a2b53jw1exl77nkup7j20c30f3q4j  0.000  0.868  0.132    0.5719      0\n",
      "2  005ldo0ygw1ex23rdfuqcj30xo0k6di0  0.000  0.911  0.089    0.5994      0\n",
      "3  62b31d36gw1exfcmyz8agj20qq0hu77k  0.147  0.827  0.026   -0.8360      0\n",
      "4  0060kjm0jw1exdjaeiqadj30xc0m8tdw  0.065  0.793  0.141    0.7550      0\n"
     ]
    }
   ],
   "source": [
    "import pandas as pd\n",
    "import pickle\n",
    "\n",
    "def load_labels_from_pickle(pickle_file):\n",
    "    with open(pickle_file, 'rb') as f:\n",
    "        data = pickle.load(f)\n",
    "        # 直接访问 data 字典中的 'image_id' 和 'label'\n",
    "        image_ids = data['image_id']\n",
    "        labels = data['label']\n",
    "        labels_dict = dict(zip(image_ids, labels))\n",
    "    return labels_dict\n",
    "\n",
    "# 加载 pickle 文件\n",
    "pickle_path = 'train.pkl'\n",
    "labels_dict = load_labels_from_pickle(pickle_path)\n",
    "\n",
    "# 加载 CSV 文件\n",
    "features_path = 'SA.csv'\n",
    "features_df = pd.read_csv(features_path)\n",
    "\n",
    "# 确保 CSV 文件中第一列为 image_id\n",
    "if features_df.columns[0] != 'image_id':\n",
    "    print(\"Error: 'image_id' must be the first column in the CSV file.\")\n",
    "else:\n",
    "    # 创建 DataFrame 用于包含从字典中提取的 image_id 和 label\n",
    "    labels_df = pd.DataFrame(list(labels_dict.items()), columns=['image_id', 'label'])\n",
    "\n",
    "    # 将 features_df 和 labels_df 中的 'image_id' 设置为索引\n",
    "    features_df.set_index('image_id', inplace=True)\n",
    "    labels_df.set_index('image_id', inplace=True)\n",
    "\n",
    "    # 根据 image_id 合并 features_df 和 labels_df\n",
    "    merged_df = pd.merge(features_df, labels_df, left_index=True, right_index=True, how='inner')\n",
    "\n",
    "    # 重置索引以便导出或其他处理\n",
    "    merged_df.reset_index(inplace=True)\n",
    "\n",
    "    # 检查合并后的数据\n",
    "    print(merged_df.head())\n",
    "\n",
    "    # 可以选择保存合并后的 DataFrame\n",
    "    # merged_df.to_csv('D:\\\\CAPSTONE5703_CNN\\\\merged_Sentiment features.csv', index=False)\n"
   ]
  },
  {
   "cell_type": "markdown",
   "metadata": {},
   "source": [
    "# Split training & test set"
   ]
  },
  {
   "cell_type": "code",
   "execution_count": 12,
   "metadata": {
    "tags": []
   },
   "outputs": [],
   "source": [
    "from sklearn.model_selection import train_test_split\n",
    "from sklearn.preprocessing import StandardScaler\n",
    "import pandas as pd\n",
    "\n",
    "# 去掉'image_id'列\n",
    "data = merged_df.drop(columns=['image_id'])\n",
    "\n",
    "# 定义特征和标签\n",
    "X = data[['neg', 'neu', 'pos', 'compound']]  # 情感分数作为特征\n",
    "y = data['label']  # 标签\n",
    "\n",
    "\n",
    "\n",
    "# 将数据集划分为训练集和测试集\n",
    "X_train, X_test, y_train, y_test = train_test_split(X, y, test_size=0.2, random_state=42)\n",
    "# X_train and X_test represent the training set and test set of feature data respectively.\n",
    "# y_train and y_test represent the training set and test set of labeled data respectively.\n",
    "\n",
    "\n",
    "\n"
   ]
  },
  {
   "cell_type": "markdown",
   "metadata": {},
   "source": [
    "# Logical Regression"
   ]
  },
  {
   "cell_type": "code",
   "execution_count": 14,
   "metadata": {
    "tags": []
   },
   "outputs": [
    {
     "name": "stdout",
     "output_type": "stream",
     "text": [
      "Fitting 5 folds for each of 10 candidates, totalling 50 fits\n",
      "Best parameters: {'C': 10, 'solver': 'saga'}\n",
      "Best cross-validation score: 0.55\n",
      "Accuracy on test set:  0.5521698984302862\n",
      "\n",
      "Classification Report:\n",
      "               precision    recall  f1-score   support\n",
      "\n",
      "           0       0.64      0.14      0.23       516\n",
      "           1       0.54      0.93      0.68       567\n",
      "\n",
      "    accuracy                           0.55      1083\n",
      "   macro avg       0.59      0.53      0.46      1083\n",
      "weighted avg       0.59      0.55      0.47      1083\n",
      "\n"
     ]
    }
   ],
   "source": [
    "import pandas as pd\n",
    "from sklearn.model_selection import train_test_split, GridSearchCV\n",
    "from sklearn.linear_model import LogisticRegression\n",
    "from sklearn.metrics import classification_report, accuracy_score\n",
    "\n",
    "\n",
    "\n",
    "# 设置参数网格\n",
    "param_grid = {\n",
    "    'C': [0.01, 0.1, 1, 10, 100],\n",
    "    'solver': ['liblinear', 'saga']\n",
    "}\n",
    "\n",
    "# 创建网格搜索对象\n",
    "grid = GridSearchCV(LogisticRegression(max_iter=10000), param_grid, cv=5, scoring='accuracy', verbose=1)\n",
    "grid.fit(X_train, y_train)\n",
    "\n",
    "# 打印最佳参数和模型评估\n",
    "print(\"Best parameters:\", grid.best_params_)\n",
    "print(\"Best cross-validation score: {:.2f}\".format(grid.best_score_))\n",
    "\n",
    "predictions = grid.predict(X_test)\n",
    "print(\"Accuracy on test set: \", accuracy_score(y_test, predictions))\n",
    "print(\"\\nClassification Report:\\n\", classification_report(y_test, predictions))\n"
   ]
  },
  {
   "cell_type": "markdown",
   "metadata": {},
   "source": [
    "# SVM"
   ]
  },
  {
   "cell_type": "code",
   "execution_count": 15,
   "metadata": {
    "tags": []
   },
   "outputs": [
    {
     "name": "stdout",
     "output_type": "stream",
     "text": [
      "Fitting 5 folds for each of 12 candidates, totalling 60 fits\n",
      "Best parameters: {'C': 10, 'gamma': 'scale', 'kernel': 'rbf'}\n",
      "Best cross-validation score: 0.57\n",
      "Accuracy on test set:  0.5761772853185596\n",
      "\n",
      "Classification Report:\n",
      "               precision    recall  f1-score   support\n",
      "\n",
      "           0       0.60      0.32      0.42       516\n",
      "           1       0.57      0.81      0.67       567\n",
      "\n",
      "    accuracy                           0.58      1083\n",
      "   macro avg       0.58      0.56      0.54      1083\n",
      "weighted avg       0.58      0.58      0.55      1083\n",
      "\n"
     ]
    }
   ],
   "source": [
    "from sklearn.svm import SVC\n",
    "\n",
    "# 参数网格\n",
    "param_grid = {\n",
    "    'C': [0.1, 1, 10],\n",
    "    'kernel': ['linear', 'rbf'],\n",
    "    'gamma': ['scale', 'auto']\n",
    "}\n",
    "\n",
    "# 网格搜索\n",
    "grid = GridSearchCV(SVC(), param_grid, cv=5, scoring='accuracy', verbose=1)\n",
    "grid.fit(X_train, y_train)\n",
    "\n",
    "# 结果\n",
    "print(\"Best parameters:\", grid.best_params_)\n",
    "print(\"Best cross-validation score: {:.2f}\".format(grid.best_score_))\n",
    "\n",
    "predictions = grid.predict(X_test)\n",
    "print(\"Accuracy on test set: \", accuracy_score(y_test, predictions))\n",
    "print(\"\\nClassification Report:\\n\", classification_report(y_test, predictions))\n"
   ]
  },
  {
   "cell_type": "markdown",
   "metadata": {},
   "source": [
    "# Random Forest"
   ]
  },
  {
   "cell_type": "code",
   "execution_count": 16,
   "metadata": {
    "tags": []
   },
   "outputs": [
    {
     "name": "stdout",
     "output_type": "stream",
     "text": [
      "Fitting 5 folds for each of 27 candidates, totalling 135 fits\n",
      "Best parameters: {'max_depth': 10, 'min_samples_split': 2, 'n_estimators': 100}\n",
      "Best cross-validation score: 0.60\n",
      "Accuracy on test set:  0.5761772853185596\n",
      "\n",
      "Classification Report:\n",
      "               precision    recall  f1-score   support\n",
      "\n",
      "           0       0.57      0.46      0.51       516\n",
      "           1       0.58      0.68      0.63       567\n",
      "\n",
      "    accuracy                           0.58      1083\n",
      "   macro avg       0.57      0.57      0.57      1083\n",
      "weighted avg       0.57      0.58      0.57      1083\n",
      "\n"
     ]
    }
   ],
   "source": [
    "from sklearn.ensemble import RandomForestClassifier\n",
    "\n",
    "# 参数网格\n",
    "param_grid = {\n",
    "    'n_estimators': [100, 200, 300],\n",
    "    'max_depth': [10, 15, 20],\n",
    "    'min_samples_split': [2, 5, 10]\n",
    "}\n",
    "\n",
    "# 网格搜索\n",
    "grid = GridSearchCV(RandomForestClassifier(random_state=42), param_grid, cv=5, scoring='accuracy', verbose=1)\n",
    "grid.fit(X_train, y_train)\n",
    "\n",
    "# 结果\n",
    "print(\"Best parameters:\", grid.best_params_)\n",
    "print(\"Best cross-validation score: {:.2f}\".format(grid.best_score_))\n",
    "\n",
    "predictions = grid.predict(X_test)\n",
    "print(\"Accuracy on test set: \", accuracy_score(y_test, predictions))\n",
    "print(\"\\nClassification Report:\\n\", classification_report(y_test, predictions))\n"
   ]
  },
  {
   "cell_type": "markdown",
   "metadata": {},
   "source": [
    "# Gradient Boosting"
   ]
  },
  {
   "cell_type": "code",
   "execution_count": null,
   "metadata": {
    "tags": []
   },
   "outputs": [
    {
     "name": "stdout",
     "output_type": "stream",
     "text": [
      "Fitting 5 folds for each of 27 candidates, totalling 135 fits\n"
     ]
    }
   ],
   "source": [
    "import pandas as pd\n",
    "from sklearn.model_selection import train_test_split, GridSearchCV\n",
    "from sklearn.ensemble import GradientBoostingClassifier\n",
    "from sklearn.metrics import classification_report, accuracy_score\n",
    "\n",
    "# 加载数据\n",
    "# 假设 X_train 和 y_train 已经准备好了\n",
    "\n",
    "# 设置参数网格\n",
    "param_grid = {\n",
    "    'n_estimators': [100, 200, 300],\n",
    "    'learning_rate': [0.01, 0.1, 0.2],\n",
    "    'max_depth': [3, 5, 7]\n",
    "}\n",
    "\n",
    "# 创建网格搜索对象\n",
    "grid = GridSearchCV(GradientBoostingClassifier(), param_grid, cv=5, scoring='accuracy', verbose=1)\n",
    "grid.fit(X_train, y_train)\n",
    "\n",
    "# 打印最佳参数和模型评估\n",
    "print(\"Best parameters:\", grid.best_params_)\n",
    "print(\"Best cross-validation score: {:.2f}\".format(grid.best_score_))\n",
    "\n",
    "predictions = grid.predict(X_test)\n",
    "print(\"Accuracy on test set: \", accuracy_score(y_test, predictions))\n",
    "print(\"\\nClassification Report:\\n\", classification_report(y_test, predictions))\n"
   ]
  },
  {
   "cell_type": "markdown",
   "metadata": {},
   "source": [
    "# XGBoost"
   ]
  },
  {
   "cell_type": "code",
   "execution_count": null,
   "metadata": {
    "tags": []
   },
   "outputs": [],
   "source": [
    "import xgboost as xgb\n",
    "from sklearn.model_selection import GridSearchCV\n",
    "from sklearn.metrics import classification_report, accuracy_score\n",
    "\n",
    "# 加载数据\n",
    "# 假设 X_train 和 y_train 已经准备好了\n",
    "\n",
    "# 设置参数网格\n",
    "param_grid = {\n",
    "    'n_estimators': [100, 200, 300],\n",
    "    'learning_rate': [0.01, 0.1, 0.2],\n",
    "    'max_depth': [3, 5, 7]\n",
    "}\n",
    "\n",
    "# 创建网格搜索对象\n",
    "grid = GridSearchCV(xgb.XGBClassifier(use_label_encoder=False, eval_metric='logloss'), param_grid, cv=5, scoring='accuracy', verbose=1)\n",
    "grid.fit(X_train, y_train)\n",
    "\n",
    "# 打印最佳参数和模型评估\n",
    "print(\"Best parameters:\", grid.best_params_)\n",
    "print(\"Best cross-validation score: {:.2f}\".format(grid.best_score_))\n",
    "\n",
    "predictions = grid.predict(X_test)\n",
    "print(\"Accuracy on test set: \", accuracy_score(y_test, predictions))\n",
    "print(\"\\nClassification Report:\\n\", classification_report(y_test, predictions))\n"
   ]
  },
  {
   "cell_type": "markdown",
   "metadata": {},
   "source": [
    "# KNN"
   ]
  },
  {
   "cell_type": "code",
   "execution_count": null,
   "metadata": {
    "tags": []
   },
   "outputs": [],
   "source": [
    "from sklearn.neighbors import KNeighborsClassifier\n",
    "from sklearn.model_selection import GridSearchCV\n",
    "from sklearn.metrics import classification_report, accuracy_score\n",
    "\n",
    "# 加载数据\n",
    "# 假设 X_train 和 y_train 已经准备好了\n",
    "\n",
    "# 设置参数网格\n",
    "param_grid = {\n",
    "    'n_neighbors': [3, 5, 7, 9],\n",
    "    'weights': ['uniform', 'distance'],\n",
    "    'metric': ['euclidean', 'manhattan']\n",
    "}\n",
    "\n",
    "# 创建网格搜索对象\n",
    "grid = GridSearchCV(KNeighborsClassifier(), param_grid, cv=5, scoring='accuracy', verbose=1)\n",
    "grid.fit(X_train, y_train)\n",
    "\n",
    "# 打印最佳参数和模型评估\n",
    "print(\"Best parameters:\", grid.best_params_)\n",
    "print(\"Best cross-validation score: {:.2f}\".format(grid.best_score_))\n",
    "\n",
    "predictions = grid.predict(X_test)\n",
    "print(\"Accuracy on test set: \", accuracy_score(y_test, predictions))\n",
    "print(\"\\nClassification Report:\\n\", classification_report(y_test, predictions))\n"
   ]
  }
 ],
 "metadata": {
  "kernelspec": {
   "display_name": "default:Python",
   "language": "python",
   "name": "conda-env-default-py"
  },
  "language_info": {
   "codemirror_mode": {
    "name": "ipython",
    "version": 3
   },
   "file_extension": ".py",
   "mimetype": "text/x-python",
   "name": "python",
   "nbconvert_exporter": "python",
   "pygments_lexer": "ipython3",
   "version": "3.9.16"
  }
 },
 "nbformat": 4,
 "nbformat_minor": 4
}
